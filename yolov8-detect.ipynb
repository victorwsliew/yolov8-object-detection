{
 "cells": [
  {
   "cell_type": "markdown",
   "metadata": {},
   "source": [
    "## Connect google drive\n",
    "- Mount google drive to colab\n",
    "  - Change the path to the folder that we just created in google drive"
   ]
  },
  {
   "cell_type": "code",
   "execution_count": null,
   "metadata": {},
   "outputs": [],
   "source": [
    "## download model to content/models\n",
    "!mkdir models\n",
    "%cd models\n",
    "!wget https://raw.githubusercontent.com/victorwsliew/yolov8-object-detection/master/model-yolov8s.zip\n",
    "!unzip model-yolov8s.zip\n",
    "!rm model-yolov8s.zip\n",
    "%cd .."
   ]
  },
  {
   "cell_type": "code",
   "execution_count": null,
   "metadata": {},
   "outputs": [],
   "source": [
    "## download test data to content/tests\n",
    "!mkdir tests\n",
    "%cd tests\n",
    "!wget https://raw.githubusercontent.com/victorwsliew/yolov8-object-detection/master/drive-data.zip\n",
    "!unzip drive-data.zip\n",
    "!rm drive-data.zip\n",
    "%cd .."
   ]
  },
  {
   "cell_type": "code",
   "execution_count": null,
   "metadata": {},
   "outputs": [],
   "source": [
    "from datetime import datetime\n",
    "\n",
    "now = datetime.now()\n",
    "\n",
    "prediction_model = '/content/models/model-yolov8s/weights/best.pt'\n",
    "test_images = '/content/data/tests/drive-data/test'\n",
    "project_output = '/content/data/test-outputs'\n",
    "project_name = str(now.strftime(\"%Y%m%d_%H%M%S\"))"
   ]
  },
  {
   "cell_type": "code",
   "execution_count": null,
   "metadata": {},
   "outputs": [],
   "source": [
    "!yolo task=detect mode=predict model={prediction_model} conf=0.55 source={test_images} project={project_output} name={project_name}"
   ]
  },
  {
   "cell_type": "code",
   "execution_count": null,
   "metadata": {},
   "outputs": [],
   "source": [
    "import glob\n",
    "from IPython.display import Image, display\n",
    "\n",
    "for image_path in glob.glob(f'{project_output}/{project_name}/*.jpg')[:3]:\n",
    "      display(Image(filename=image_path, width=600))\n",
    "      print(\"\\n\")"
   ]
  }
 ],
 "metadata": {
  "language_info": {
   "name": "python"
  },
  "orig_nbformat": 4
 },
 "nbformat": 4,
 "nbformat_minor": 2
}
