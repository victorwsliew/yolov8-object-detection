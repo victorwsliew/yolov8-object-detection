{
 "cells": [
  {
   "cell_type": "markdown",
   "metadata": {},
   "source": [
    "## Setup\n",
    "1. make sure we have access to use GPU\n",
    " - navigate to `Runtime` -> `Change runtime type`, set it to `GPU` under `Hardware accelerator`, and then click `Save`.\n",
    "2. install dependencies"
   ]
  },
  {
   "cell_type": "code",
   "execution_count": null,
   "metadata": {},
   "outputs": [],
   "source": [
    "%pip install ultralytics\n",
    "import ultralytics\n",
    "ultralytics.checks()"
   ]
  },
  {
   "cell_type": "markdown",
   "metadata": {},
   "source": [
    "3. Download trained model"
   ]
  },
  {
   "cell_type": "code",
   "execution_count": null,
   "metadata": {},
   "outputs": [],
   "source": [
    "## download model to content/models\n",
    "!mkdir models\n",
    "%cd models\n",
    "!wget https://raw.githubusercontent.com/victorwsliew/yolov8-object-detection/master/model-yolov8s.zip\n",
    "!unzip model-yolov8s.zip\n",
    "!rm model-yolov8s.zip\n",
    "%cd .."
   ]
  },
  {
   "cell_type": "markdown",
   "metadata": {},
   "source": [
    "4. Download test images"
   ]
  },
  {
   "cell_type": "code",
   "execution_count": null,
   "metadata": {},
   "outputs": [],
   "source": [
    "## download test data to content/data\n",
    "!mkdir data\n",
    "%cd data\n",
    "!wget https://raw.githubusercontent.com/victorwsliew/yolov8-object-detection/master/drive-data.zip\n",
    "!unzip drive-data.zip\n",
    "!rm drive-data.zip\n",
    "%cd .."
   ]
  },
  {
   "cell_type": "markdown",
   "metadata": {},
   "source": [
    "5. Defined variables"
   ]
  },
  {
   "cell_type": "code",
   "execution_count": null,
   "metadata": {},
   "outputs": [],
   "source": [
    "from datetime import datetime\n",
    "\n",
    "now = datetime.now()\n",
    "\n",
    "prediction_model = '/content/models/model-yolov8s/weights/best.pt'\n",
    "test_images = '/content/data/drive-data/test'\n",
    "project_output = '/content/test-outputs'\n",
    "project_name = str(now.strftime(\"%Y%m%d%H%M%S\"))"
   ]
  },
  {
   "cell_type": "markdown",
   "metadata": {},
   "source": [
    "## Validating trained model"
   ]
  },
  {
   "cell_type": "code",
   "execution_count": null,
   "metadata": {},
   "outputs": [],
   "source": [
    "!yolo task=detect mode=predict model={prediction_model} conf=0.55 source={test_images} project={project_output} name={project_name}"
   ]
  },
  {
   "cell_type": "markdown",
   "metadata": {},
   "source": [
    "1. Display the prediction output images with bounding boxes"
   ]
  },
  {
   "cell_type": "code",
   "execution_count": null,
   "metadata": {},
   "outputs": [],
   "source": [
    "import glob\n",
    "import os\n",
    "from IPython.display import Image, display\n",
    "\n",
    "test_results = os.path.join(project_output, project_name)\n",
    "for image_path in glob.glob(f'{test_results}/*.jpg')[:3]:\n",
    "      display(Image(filename=image_path, width=600))\n",
    "      print(\"\\n\")"
   ]
  }
 ],
 "metadata": {
  "language_info": {
   "name": "python"
  },
  "orig_nbformat": 4
 },
 "nbformat": 4,
 "nbformat_minor": 2
}
